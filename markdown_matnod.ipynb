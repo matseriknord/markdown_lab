{
  "nbformat": 4,
  "nbformat_minor": 0,
  "metadata": {
    "kernelspec": {
      "display_name": "Python 3",
      "language": "python",
      "name": "python3"
    },
    "language_info": {
      "codemirror_mode": {
        "name": "ipython",
        "version": 3
      },
      "file_extension": ".py",
      "mimetype": "text/x-python",
      "name": "python",
      "nbconvert_exporter": "python",
      "pygments_lexer": "ipython3",
      "version": "3.7.6"
    },
    "colab": {
      "name": "markdown-matnod.ipynb",
      "provenance": [],
      "include_colab_link": true
    }
  },
  "cells": [
    {
      "cell_type": "markdown",
      "metadata": {
        "id": "view-in-github",
        "colab_type": "text"
      },
      "source": [
        "<a href=\"https://colab.research.google.com/github/matseriknord/markdown_lab/blob/main/markdown_matnod.ipynb\" target=\"_parent\"><img src=\"https://colab.research.google.com/assets/colab-badge.svg\" alt=\"Open In Colab\"/></a>"
      ]
    },
    {
      "cell_type": "markdown",
      "metadata": {
        "id": "wJ9-VgwAk2It"
      },
      "source": [
        "## Practice Markdown"
      ]
    },
    {
      "cell_type": "markdown",
      "metadata": {
        "id": "rSjI0TCgk2Iw"
      },
      "source": [
        "This notebook lets you experiment with producing repeatable technical documentation.  Use this notebook to do the following actions:\n",
        "\n",
        "* Create a code cell and print a Python Hello World statement:  `print(\"hello world\")`\n",
        "* Create a Markdown Cell and add a Title using `#` and then a statement using plain text.  You can looks at the source code for this cell to get an idea of how to use Markdown.\n",
        "* Take some ideas from the [Master Markdown Github Guide](https://guides.github.com/features/mastering-markdown/) and implement them here.\n",
        "* Download this notebook as a `.ipynb` file and check into a Github Project.  You can [see an example here](https://github.com/noahgift/duke-coursera-ccf-lab1/blob/main/Practice-Markdown.ipynb).\n",
        "* Open your notebook in Google Colab and save it into the same Github Project.  You can [see an example here](https://github.com/noahgift/duke-coursera-ccf-lab1/blob/main/Practice_Markdown_with_colab.ipynb).\n"
      ]
    },
    {
      "cell_type": "markdown",
      "metadata": {
        "id": "nNXDgBCok2Ix"
      },
      "source": [
        "## Python code to salute the world"
      ]
    },
    {
      "cell_type": "code",
      "metadata": {
        "id": "foJJnIRGk2Ix"
      },
      "source": [
        "def hello_world():\n",
        "    print('Hello world!')"
      ],
      "execution_count": null,
      "outputs": []
    },
    {
      "cell_type": "code",
      "metadata": {
        "id": "pvNOY4Ngk2Iy",
        "outputId": "91fcdf19-d1c7-4162-8e5b-02935c4c917f"
      },
      "source": [
        "hello_world()"
      ],
      "execution_count": null,
      "outputs": [
        {
          "output_type": "stream",
          "text": [
            "Hello world!\n"
          ],
          "name": "stdout"
        }
      ]
    },
    {
      "cell_type": "markdown",
      "metadata": {
        "id": "JkMxlBBLk2Iz"
      },
      "source": [
        "## Lists and tables\n",
        "* Item number one\n",
        "* Item number two\n",
        "* Item number three in this unordered list\n",
        "  * Sublevel included\n",
        "1. Ordered list item1\n",
        "1. Ordered list item2\n",
        "\n",
        "Pros     | Cons\n",
        "---------|---------\n",
        "+++++++  | ------\n",
        "Positive | Negative\n",
        "\n",
        "I really regret this ~~word~~, but not this.\n",
        "\n",
        "- [x] First item in a check list\n",
        "- [ ] Second item , not complete\n",
        "\n",
        "  "
      ]
    }
  ]
}